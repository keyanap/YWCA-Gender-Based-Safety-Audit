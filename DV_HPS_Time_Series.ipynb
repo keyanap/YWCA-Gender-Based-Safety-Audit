{
 "cells": [
  {
   "cell_type": "markdown",
   "metadata": {},
   "source": [
    "# Time Series for Domestic Violence Total Occurances vs Total Number of Charges Laid as Reported by Hamilton Police Services 2015-2023"
   ]
  },
  {
   "cell_type": "code",
   "execution_count": 1,
   "metadata": {},
   "outputs": [
    {
     "ename": "",
     "evalue": "",
     "output_type": "error",
     "traceback": [
      "\u001b[1;31mFailed to start the Kernel. \n",
      "\u001b[1;31mConnection is disposed. \n",
      "\u001b[1;31mView Jupyter <a href='command:jupyter.viewOutput'>log</a> for further details."
     ]
    }
   ],
   "source": [
    "# Import dependencies\n",
    "import matplotlib.pyplot as plt\n",
    "import pandas as pd\n",
    "from datetime import date\n",
    "from pathlib import Path\n",
    "today = date.today()"
   ]
  },
  {
   "cell_type": "code",
   "execution_count": null,
   "metadata": {},
   "outputs": [],
   "source": [
    "# File to load\n",
    "data_path = Path(\"Resources/Domestic Violence (2015-2023) - Hamilton Police Services.xlsx\")\n",
    "\n",
    "# Read excel file\n",
    "dv_data = pd.read_excel(data_path)\n",
    "\n",
    "# Display the data\n",
    "dv_data.head()"
   ]
  },
  {
   "cell_type": "code",
   "execution_count": null,
   "metadata": {},
   "outputs": [],
   "source": [
    "# Create DataFrame\n",
    "dv_occur_df = pd.DataFrame(dv_data)\n",
    "\n",
    "# Display the data\n",
    "dv_occur_df.head()"
   ]
  },
  {
   "cell_type": "code",
   "execution_count": null,
   "metadata": {},
   "outputs": [],
   "source": [
    "# Remove the columns that are not needed\n",
    "dv_occur_df = dv_occur_df.drop(columns=['Dual Charges', 'Multi Person Charges'])\n",
    "\n",
    "# Display the data\n",
    "dv_occur_df.head()"
   ]
  },
  {
   "cell_type": "code",
   "execution_count": null,
   "metadata": {},
   "outputs": [],
   "source": [
    "# Check data types\n",
    "dv_occur_df.dtypes"
   ]
  },
  {
   "cell_type": "code",
   "execution_count": null,
   "metadata": {},
   "outputs": [],
   "source": [
    "# Convert date to string\n",
    "dv_occur_df_convert = ['DateTypeCol'] = pd.to.datetime(dv_occur_df['Date'])\n",
    "dv_occur_df-convert = dv_occur_df['DateTypeCol'].dt.strftime('%Y-%m-%d')\n",
    "\n",
    "# Rename the column\n",
    "dv_occur_df = dv_occur_df.rename(columns={'DateTypeCol': 'Date'})\n",
    "\n",
    "# Display the data\n",
    "dv_occur_df.head()"
   ]
  },
  {
   "cell_type": "code",
   "execution_count": null,
   "metadata": {},
   "outputs": [],
   "source": [
    "# Chwck data types\n",
    "dv_occur_df.dtypes"
   ]
  },
  {
   "cell_type": "code",
   "execution_count": null,
   "metadata": {},
   "outputs": [],
   "source": [
    "# Title of the plot\n",
    "plt.title('Domestic Violence Occurances vs. Charges in Hamilton (2015-2023)')\n",
    "# Bold title\n",
    "plt.title('Domestic Violence Occurances vs. Charges in Hamilton (2015-2023)', fontweight='bold')\n",
    "\n",
    "# Label x and y axis\n",
    "plt.xlabel('Date')\n",
    "plt.ylabel('Total Number')\n",
    "\n",
    "# Label x ticks\n",
    "plt.xticks(dv_occur_df['Date'], rotation=45)\n",
    "\n",
    "# Lines for the plot\n",
    "dv_total_line = plt.plot(dv_occur_df.index, dv_occur_df['Total Number of Occurances'], color='blue', label='Total Number of Occurances')\n",
    "dv_charges_line = plt.plot(dv_occur_df.index, dv_occur_df['Charges Laid'], color='red', label='Total Number of Charges Laid')\n",
    "\n",
    "# Add legend\n",
    "plt.legend(['Total Number of Occurances', 'Total Number of Charges Laid'])\n",
    "\n",
    "# Plot the data\n",
    "plt.show()\n",
    "\n",
    "# Save the plot\n",
    "plt.savefig(f\"Output/Domestic Violence Occurances vs. Charges in Hamilton (2015-2023).png\")\n"
   ]
  },
  {
   "cell_type": "markdown",
   "metadata": {},
   "source": [
    "# Time Series for Number of Males vs Number of Females Charged with Domestic Violence as Reported by Hamilton Police Services 2015-2023"
   ]
  },
  {
   "cell_type": "code",
   "execution_count": null,
   "metadata": {},
   "outputs": [],
   "source": []
  }
 ],
 "metadata": {
  "kernelspec": {
   "display_name": "dev",
   "language": "python",
   "name": "python3"
  },
  "language_info": {
   "codemirror_mode": {
    "name": "ipython",
    "version": 3
   },
   "file_extension": ".py",
   "mimetype": "text/x-python",
   "name": "python",
   "nbconvert_exporter": "python",
   "pygments_lexer": "ipython3",
   "version": "3.9.18"
  }
 },
 "nbformat": 4,
 "nbformat_minor": 2
}
